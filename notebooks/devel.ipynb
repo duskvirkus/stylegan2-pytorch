{
 "cells": [
  {
   "cell_type": "code",
   "execution_count": 1,
   "metadata": {},
   "outputs": [
    {
     "name": "stdout",
     "output_type": "stream",
     "text": [
      "Python 3.7.10\n"
     ]
    }
   ],
   "source": [
    "!python --version"
   ]
  },
  {
   "cell_type": "code",
   "execution_count": 3,
   "metadata": {},
   "outputs": [
    {
     "name": "stdout",
     "output_type": "stream",
     "text": [
      "Collecting cloud-tpu-client==0.10\n",
      "  Downloading https://files.pythonhosted.org/packages/56/9f/7b1958c2886db06feb5de5b2c191096f9e619914b6c31fdf93999fdbbd8b/cloud_tpu_client-0.10-py3-none-any.whl\n",
      "Collecting torch-xla==1.9\n",
      "\u001b[?25l  Downloading https://storage.googleapis.com/tpu-pytorch/wheels/torch_xla-1.9-cp37-cp37m-linux_x86_64.whl (149.9MB)\n",
      "\u001b[K     |████████████████████████████████| 149.9MB 60kB/s \n",
      "\u001b[?25hCollecting ninja\n",
      "\u001b[?25l  Downloading https://files.pythonhosted.org/packages/1d/de/393468f2a37fc2c1dc3a06afc37775e27fde2d16845424141d4da62c686d/ninja-1.10.0.post2-py3-none-manylinux1_x86_64.whl (107kB)\n",
      "\u001b[K     |████████████████████████████████| 112kB 5.0MB/s \n",
      "\u001b[?25hCollecting google-api-python-client==1.8.0\n",
      "\u001b[?25l  Downloading https://files.pythonhosted.org/packages/9a/b4/a955f393b838bc47cbb6ae4643b9d0f90333d3b4db4dc1e819f36aad18cc/google_api_python_client-1.8.0-py3-none-any.whl (57kB)\n",
      "\u001b[K     |████████████████████████████████| 61kB 5.0MB/s \n",
      "\u001b[?25hRequirement already satisfied: oauth2client in /usr/local/lib/python3.7/dist-packages (from cloud-tpu-client==0.10->-r ../requirements.txt (line 1)) (4.1.3)\n",
      "Requirement already satisfied: google-api-core<2dev,>=1.13.0 in /usr/local/lib/python3.7/dist-packages (from google-api-python-client==1.8.0->cloud-tpu-client==0.10->-r ../requirements.txt (line 1)) (1.26.3)\n",
      "Requirement already satisfied: google-auth-httplib2>=0.0.3 in /usr/local/lib/python3.7/dist-packages (from google-api-python-client==1.8.0->cloud-tpu-client==0.10->-r ../requirements.txt (line 1)) (0.0.4)\n",
      "Requirement already satisfied: uritemplate<4dev,>=3.0.0 in /usr/local/lib/python3.7/dist-packages (from google-api-python-client==1.8.0->cloud-tpu-client==0.10->-r ../requirements.txt (line 1)) (3.0.1)\n",
      "Requirement already satisfied: google-auth>=1.4.1 in /usr/local/lib/python3.7/dist-packages (from google-api-python-client==1.8.0->cloud-tpu-client==0.10->-r ../requirements.txt (line 1)) (1.31.0)\n",
      "Requirement already satisfied: six<2dev,>=1.6.1 in /usr/local/lib/python3.7/dist-packages (from google-api-python-client==1.8.0->cloud-tpu-client==0.10->-r ../requirements.txt (line 1)) (1.15.0)\n",
      "Requirement already satisfied: httplib2<1dev,>=0.9.2 in /usr/local/lib/python3.7/dist-packages (from google-api-python-client==1.8.0->cloud-tpu-client==0.10->-r ../requirements.txt (line 1)) (0.17.4)\n",
      "Requirement already satisfied: rsa>=3.1.4 in /usr/local/lib/python3.7/dist-packages (from oauth2client->cloud-tpu-client==0.10->-r ../requirements.txt (line 1)) (4.7.2)\n",
      "Requirement already satisfied: pyasn1>=0.1.7 in /usr/local/lib/python3.7/dist-packages (from oauth2client->cloud-tpu-client==0.10->-r ../requirements.txt (line 1)) (0.4.8)\n",
      "Requirement already satisfied: pyasn1-modules>=0.0.5 in /usr/local/lib/python3.7/dist-packages (from oauth2client->cloud-tpu-client==0.10->-r ../requirements.txt (line 1)) (0.2.8)\n",
      "Requirement already satisfied: setuptools>=40.3.0 in /usr/local/lib/python3.7/dist-packages (from google-api-core<2dev,>=1.13.0->google-api-python-client==1.8.0->cloud-tpu-client==0.10->-r ../requirements.txt (line 1)) (57.0.0)\n",
      "Requirement already satisfied: pytz in /usr/local/lib/python3.7/dist-packages (from google-api-core<2dev,>=1.13.0->google-api-python-client==1.8.0->cloud-tpu-client==0.10->-r ../requirements.txt (line 1)) (2018.9)\n",
      "Requirement already satisfied: packaging>=14.3 in /usr/local/lib/python3.7/dist-packages (from google-api-core<2dev,>=1.13.0->google-api-python-client==1.8.0->cloud-tpu-client==0.10->-r ../requirements.txt (line 1)) (20.9)\n",
      "Requirement already satisfied: requests<3.0.0dev,>=2.18.0 in /usr/local/lib/python3.7/dist-packages (from google-api-core<2dev,>=1.13.0->google-api-python-client==1.8.0->cloud-tpu-client==0.10->-r ../requirements.txt (line 1)) (2.23.0)\n",
      "Requirement already satisfied: protobuf>=3.12.0 in /usr/local/lib/python3.7/dist-packages (from google-api-core<2dev,>=1.13.0->google-api-python-client==1.8.0->cloud-tpu-client==0.10->-r ../requirements.txt (line 1)) (3.12.4)\n",
      "Requirement already satisfied: googleapis-common-protos<2.0dev,>=1.6.0 in /usr/local/lib/python3.7/dist-packages (from google-api-core<2dev,>=1.13.0->google-api-python-client==1.8.0->cloud-tpu-client==0.10->-r ../requirements.txt (line 1)) (1.53.0)\n",
      "Requirement already satisfied: cachetools<5.0,>=2.0.0 in /usr/local/lib/python3.7/dist-packages (from google-auth>=1.4.1->google-api-python-client==1.8.0->cloud-tpu-client==0.10->-r ../requirements.txt (line 1)) (4.2.2)\n",
      "Requirement already satisfied: pyparsing>=2.0.2 in /usr/local/lib/python3.7/dist-packages (from packaging>=14.3->google-api-core<2dev,>=1.13.0->google-api-python-client==1.8.0->cloud-tpu-client==0.10->-r ../requirements.txt (line 1)) (2.4.7)\n",
      "Requirement already satisfied: urllib3!=1.25.0,!=1.25.1,<1.26,>=1.21.1 in /usr/local/lib/python3.7/dist-packages (from requests<3.0.0dev,>=2.18.0->google-api-core<2dev,>=1.13.0->google-api-python-client==1.8.0->cloud-tpu-client==0.10->-r ../requirements.txt (line 1)) (1.24.3)\n",
      "Requirement already satisfied: certifi>=2017.4.17 in /usr/local/lib/python3.7/dist-packages (from requests<3.0.0dev,>=2.18.0->google-api-core<2dev,>=1.13.0->google-api-python-client==1.8.0->cloud-tpu-client==0.10->-r ../requirements.txt (line 1)) (2021.5.30)\n",
      "Requirement already satisfied: chardet<4,>=3.0.2 in /usr/local/lib/python3.7/dist-packages (from requests<3.0.0dev,>=2.18.0->google-api-core<2dev,>=1.13.0->google-api-python-client==1.8.0->cloud-tpu-client==0.10->-r ../requirements.txt (line 1)) (3.0.4)\n",
      "Requirement already satisfied: idna<3,>=2.5 in /usr/local/lib/python3.7/dist-packages (from requests<3.0.0dev,>=2.18.0->google-api-core<2dev,>=1.13.0->google-api-python-client==1.8.0->cloud-tpu-client==0.10->-r ../requirements.txt (line 1)) (2.10)\n",
      "\u001b[31mERROR: earthengine-api 0.1.269 has requirement google-api-python-client<2,>=1.12.1, but you'll have google-api-python-client 1.8.0 which is incompatible.\u001b[0m\n",
      "Installing collected packages: google-api-python-client, cloud-tpu-client, torch-xla, ninja\n",
      "  Found existing installation: google-api-python-client 1.12.8\n",
      "    Uninstalling google-api-python-client-1.12.8:\n",
      "      Successfully uninstalled google-api-python-client-1.12.8\n",
      "Successfully installed cloud-tpu-client-0.10 google-api-python-client-1.8.0 ninja-1.10.0.post2 torch-xla-1.9\n"
     ]
    }
   ],
   "source": [
    "!pip install -r ../requirements.txt"
   ]
  },
  {
   "cell_type": "code",
   "execution_count": 7,
   "metadata": {},
   "outputs": [
    {
     "name": "stdout",
     "output_type": "stream",
     "text": [
      "WARNING:root:Waiting for TPU to be start up with version pytorch-1.9...\n",
      "WARNING:root:Waiting for TPU to be start up with version pytorch-1.9...\n",
      "WARNING:root:Waiting for TPU to be start up with version pytorch-1.9...\n",
      "WARNING:root:TPU has started up successfully with version pytorch-1.9\n",
      "usage: train.py [-h] [--arch ARCH] [--iter ITER] [--batch BATCH]\n",
      "                [--n_sample N_SAMPLE] [--size SIZE] [--r1 R1]\n",
      "                [--path_regularize PATH_REGULARIZE]\n",
      "                [--path_batch_shrink PATH_BATCH_SHRINK]\n",
      "                [--d_reg_every D_REG_EVERY] [--g_reg_every G_REG_EVERY]\n",
      "                [--mixing MIXING] [--ckpt CKPT] [--lr LR]\n",
      "                [--channel_multiplier CHANNEL_MULTIPLIER] [--wandb]\n",
      "                [--local_rank LOCAL_RANK] [--augment] [--augment_p AUGMENT_P]\n",
      "                [--ada_target ADA_TARGET] [--ada_length ADA_LENGTH]\n",
      "                [--ada_every ADA_EVERY]\n",
      "                path\n",
      "\n",
      "StyleGAN2 trainer\n",
      "\n",
      "positional arguments:\n",
      "  path                  path to the lmdb dataset\n",
      "\n",
      "optional arguments:\n",
      "  -h, --help            show this help message and exit\n",
      "  --arch ARCH           model architectures (stylegan2 | swagan)\n",
      "  --iter ITER           total training iterations\n",
      "  --batch BATCH         batch sizes for each gpus\n",
      "  --n_sample N_SAMPLE   number of the samples generated during training\n",
      "  --size SIZE           image sizes for the model\n",
      "  --r1 R1               weight of the r1 regularization\n",
      "  --path_regularize PATH_REGULARIZE\n",
      "                        weight of the path length regularization\n",
      "  --path_batch_shrink PATH_BATCH_SHRINK\n",
      "                        batch size reducing factor for the path length\n",
      "                        regularization (reduce memory consumption)\n",
      "  --d_reg_every D_REG_EVERY\n",
      "                        interval of the applying r1 regularization\n",
      "  --g_reg_every G_REG_EVERY\n",
      "                        interval of the applying path length regularization\n",
      "  --mixing MIXING       probability of latent code mixing\n",
      "  --ckpt CKPT           path to the checkpoints to resume training\n",
      "  --lr LR               learning rate\n",
      "  --channel_multiplier CHANNEL_MULTIPLIER\n",
      "                        channel multiplier factor for the model. config-f = 2,\n",
      "                        else = 1\n",
      "  --wandb               use weights and biases logging\n",
      "  --local_rank LOCAL_RANK\n",
      "                        local rank for distributed training\n",
      "  --augment             apply non leaking augmentation\n",
      "  --augment_p AUGMENT_P\n",
      "                        probability of applying augmentation. 0 = use adaptive\n",
      "                        augmentation\n",
      "  --ada_target ADA_TARGET\n",
      "                        target augmentation probability for adaptive\n",
      "                        augmentation\n",
      "  --ada_length ADA_LENGTH\n",
      "                        target duraing to reach augmentation probability for\n",
      "                        adaptive augmentation\n",
      "  --ada_every ADA_EVERY\n",
      "                        probability update interval of the adaptive\n",
      "                        augmentation\n"
     ]
    }
   ],
   "source": [
    "!python ../train.py --help"
   ]
  },
  {
   "cell_type": "code",
   "execution_count": null,
   "metadata": {},
   "outputs": [],
   "source": []
  }
 ],
 "metadata": {
  "interpreter": {
   "hash": "31f2aee4e71d21fbe5cf8b01ff0e069b9275f58929596ceb00d14d90e3e16cd6"
  },
  "kernelspec": {
   "display_name": "Python 3.7.10 64-bit",
   "name": "python3"
  },
  "language_info": {
   "codemirror_mode": {
    "name": "ipython",
    "version": 3
   },
   "file_extension": ".py",
   "mimetype": "text/x-python",
   "name": "python",
   "nbconvert_exporter": "python",
   "pygments_lexer": "ipython3",
   "version": "3.7.10"
  },
  "orig_nbformat": 4
 },
 "nbformat": 4,
 "nbformat_minor": 2
}